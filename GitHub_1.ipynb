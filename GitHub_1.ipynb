{
 "cells": [
  {
   "cell_type": "code",
   "execution_count": 1,
   "metadata": {},
   "outputs": [
    {
     "name": "stdout",
     "output_type": "stream",
     "text": [
      "Ваш алгоритм угадывает число в среднем за 5 попыток\n",
      "5\n"
     ]
    }
   ],
   "source": [
    "import numpy as np\n",
    "\n",
    "def game_core_v2(number):\n",
    "    count = 1\n",
    "    predict = np.random.randint(1,101)\n",
    "    while number != predict:\n",
    "        count+=1\n",
    "        if number > predict: \n",
    "            predict += (number-predict)//2+1 # С каждым циклом уменьшаем интервал в ~2 раза.\n",
    "                                             # Таким образом, подбираемся к искомому числу \"снизу\".\n",
    "                                             # '1' нужна при приближении к искомому числу, т.к. 1//2=0.\n",
    "        elif number < predict: \n",
    "            predict -= (predict-number)//2+1 # Аналогично, подбираемся к иcкомому числу \"сверху\".\n",
    "        \"\"\"В выражениях выше также, вместо '1', можно использовать остатки деления \n",
    "        ((number-predict)%2 и (predict-number)%2 соответственно), но результат получается чуть хуже,\n",
    "        что видно при выводе 'score' типа float.\"\"\"\n",
    "    return(count)\n",
    "\n",
    "def score_game(game_core):\n",
    "    count_ls = []\n",
    "    np.random.seed(1)  \n",
    "    random_array = np.random.randint(1,101, size=(1000))\n",
    "    for number in random_array:\n",
    "        count_ls.append(game_core(number))\n",
    "        score = int(np.mean(count_ls))\n",
    "    print(f\"Ваш алгоритм угадывает число в среднем за {score} попыток\")\n",
    "    return(score)\n",
    "\n",
    "print(score_game(game_core_v2))"
   ]
  },
  {
   "cell_type": "code",
   "execution_count": null,
   "metadata": {},
   "outputs": [],
   "source": []
  }
 ],
 "metadata": {
  "kernelspec": {
   "display_name": "Python 3",
   "language": "python",
   "name": "python3"
  },
  "language_info": {
   "codemirror_mode": {
    "name": "ipython",
    "version": 3
   },
   "file_extension": ".py",
   "mimetype": "text/x-python",
   "name": "python",
   "nbconvert_exporter": "python",
   "pygments_lexer": "ipython3",
   "version": "3.8.3"
  }
 },
 "nbformat": 4,
 "nbformat_minor": 4
}
